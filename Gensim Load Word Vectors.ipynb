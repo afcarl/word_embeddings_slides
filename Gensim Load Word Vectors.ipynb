{
 "cells": [
  {
   "cell_type": "markdown",
   "metadata": {},
   "source": [
    "Reference: [link](https://rare-technologies.com/word2vec-tutorial/)"
   ]
  },
  {
   "cell_type": "code",
   "execution_count": 1,
   "metadata": {},
   "outputs": [],
   "source": [
    "import gensim"
   ]
  },
  {
   "cell_type": "code",
   "execution_count": 2,
   "metadata": {},
   "outputs": [],
   "source": [
    "sentences = [['first', 'sentence'], ['second', 'sentence']]\n",
    "# train word2vec on the two sentences\n",
    "model = gensim.models.Word2Vec(sentences, min_count=1)"
   ]
  },
  {
   "cell_type": "code",
   "execution_count": 3,
   "metadata": {
    "scrolled": true
   },
   "outputs": [
    {
     "data": {
      "text/plain": [
       "array([  2.48366501e-03,   4.07958403e-03,   1.22610573e-03,\n",
       "         4.47610300e-03,   4.06977208e-03,   2.06202199e-03,\n",
       "        -4.95104818e-03,   3.43400752e-03,  -4.59521136e-04,\n",
       "         2.14280561e-03,   3.32460948e-03,  -3.63749708e-03,\n",
       "        -1.01702334e-03,  -1.34130334e-03,  -2.17719749e-03,\n",
       "         4.88163531e-03,   3.61668854e-03,   2.73034256e-03,\n",
       "         1.62617653e-03,   3.39382864e-03,  -3.52383149e-03,\n",
       "        -4.45839576e-03,   7.20713404e-04,  -3.38851532e-04,\n",
       "         6.66516251e-04,  -4.15217859e-04,   2.02905503e-03,\n",
       "        -4.35809743e-05,  -2.54914258e-03,  -3.48882895e-04,\n",
       "        -3.19840014e-03,  -1.03120692e-03,  -1.12814957e-03,\n",
       "         1.53161737e-03,  -4.97337477e-03,   4.97778505e-03,\n",
       "        -2.66994117e-03,   3.11474153e-03,   4.69619036e-03,\n",
       "         4.50434675e-03,   3.49453301e-03,  -1.98399578e-03,\n",
       "         4.88768285e-03,  -4.21569450e-03,   2.64422107e-03,\n",
       "        -4.46875347e-03,   3.20817647e-03,   7.62257667e-04,\n",
       "        -4.29247506e-03,   9.04216315e-04,   1.80646079e-03,\n",
       "         1.62179582e-03,  -4.83982032e-03,  -3.37705598e-03,\n",
       "        -4.78392374e-03,  -1.64031656e-03,   2.34597921e-03,\n",
       "        -2.03682852e-04,  -4.49195411e-03,  -4.79202811e-03,\n",
       "        -1.25285937e-03,   3.30599654e-03,   3.37832631e-03,\n",
       "        -6.34274737e-04,   1.95911460e-04,  -1.81881920e-03,\n",
       "        -4.70244372e-03,  -3.64255230e-03,   1.28137157e-03,\n",
       "        -1.34453841e-03,   4.40413784e-03,   1.10963103e-03,\n",
       "        -1.11890363e-03,  -4.92057810e-03,  -1.25365634e-03,\n",
       "         3.45599698e-03,   1.11862679e-03,   5.34115185e-04,\n",
       "        -4.32582060e-03,  -1.41803245e-03,   9.41045873e-04,\n",
       "         4.58788039e-04,   4.07307176e-03,  -3.99104971e-03,\n",
       "         3.88785033e-03,   1.90524769e-03,   6.91297537e-05,\n",
       "        -2.97225639e-03,  -3.50204203e-03,  -7.62872514e-04,\n",
       "        -2.04204419e-03,  -1.39735069e-03,  -3.40036722e-03,\n",
       "         3.95626342e-03,  -1.63827010e-03,  -3.24898795e-03,\n",
       "        -3.13667493e-04,  -5.62990790e-05,   7.43806129e-04,\n",
       "         3.79168754e-03], dtype=float32)"
      ]
     },
     "execution_count": 3,
     "metadata": {},
     "output_type": "execute_result"
    }
   ],
   "source": [
    "model['second']"
   ]
  },
  {
   "cell_type": "code",
   "execution_count": 6,
   "metadata": {},
   "outputs": [],
   "source": [
    "model.save('mymodel')\n",
    "new_model = gensim.models.Word2Vec.load('mymodel')"
   ]
  },
  {
   "cell_type": "code",
   "execution_count": 4,
   "metadata": {},
   "outputs": [
    {
     "data": {
      "text/plain": [
       "(400000, 50)"
      ]
     },
     "execution_count": 4,
     "metadata": {},
     "output_type": "execute_result"
    }
   ],
   "source": [
    "from gensim.models.keyedvectors import KeyedVectors\n",
    "gensim.scripts.glove2word2vec.glove2word2vec('glove.6B.50d.txt', 'word2vec_glove.txt')"
   ]
  },
  {
   "cell_type": "code",
   "execution_count": 5,
   "metadata": {},
   "outputs": [],
   "source": [
    "glove_model = KeyedVectors.load_word2vec_format('word2vec_glove.txt', binary=False)"
   ]
  },
  {
   "cell_type": "code",
   "execution_count": 6,
   "metadata": {},
   "outputs": [
    {
     "data": {
      "text/plain": [
       "[('queen', 0.8523603677749634),\n",
       " ('throne', 0.7664334177970886),\n",
       " ('prince', 0.759214460849762),\n",
       " ('daughter', 0.7473883032798767),\n",
       " ('elizabeth', 0.7460220456123352),\n",
       " ('princess', 0.7424569725990295),\n",
       " ('kingdom', 0.7337411642074585),\n",
       " ('monarch', 0.7214490175247192),\n",
       " ('eldest', 0.7184861898422241),\n",
       " ('widow', 0.7099430561065674)]"
      ]
     },
     "execution_count": 6,
     "metadata": {},
     "output_type": "execute_result"
    }
   ],
   "source": [
    "glove_model.wv.most_similar(positive=['woman', 'king'], negative=['man']) # king - man + woman"
   ]
  },
  {
   "cell_type": "code",
   "execution_count": 7,
   "metadata": {},
   "outputs": [
    {
     "data": {
      "text/plain": [
       "'cereal'"
      ]
     },
     "execution_count": 7,
     "metadata": {},
     "output_type": "execute_result"
    }
   ],
   "source": [
    "glove_model.wv.doesnt_match(\"breakfast cereal dinner lunch\".split())"
   ]
  },
  {
   "cell_type": "code",
   "execution_count": 8,
   "metadata": {},
   "outputs": [
    {
     "data": {
      "text/plain": [
       "0.88603376834235426"
      ]
     },
     "execution_count": 8,
     "metadata": {},
     "output_type": "execute_result"
    }
   ],
   "source": [
    "glove_model.wv.similarity('woman', 'man')"
   ]
  },
  {
   "cell_type": "code",
   "execution_count": 9,
   "metadata": {},
   "outputs": [
    {
     "data": {
      "text/plain": [
       "0.90652807013092229"
      ]
     },
     "execution_count": 9,
     "metadata": {},
     "output_type": "execute_result"
    }
   ],
   "source": [
    "glove_model.wv.similarity('woman', 'girl')"
   ]
  },
  {
   "cell_type": "code",
   "execution_count": 10,
   "metadata": {},
   "outputs": [],
   "source": [
    "# lets try loading glove file itself\n",
    "del glove_model"
   ]
  },
  {
   "cell_type": "code",
   "execution_count": 12,
   "metadata": {},
   "outputs": [],
   "source": [
    "import numpy as np\n",
    "def loadGloveModel(gloveFile):\n",
    "    print (\"Loading Glove Model\")\n",
    "    f = open(gloveFile,'r')\n",
    "    model = {}\n",
    "    for line in f:\n",
    "        splitLine = line.split()\n",
    "        word = splitLine[0]\n",
    "        embedding = np.array([float(val) for val in splitLine[1:]])\n",
    "        model[word] = embedding\n",
    "    print (\"Done.\",len(model),\" words loaded!\")\n",
    "    return model"
   ]
  },
  {
   "cell_type": "code",
   "execution_count": 13,
   "metadata": {},
   "outputs": [
    {
     "name": "stdout",
     "output_type": "stream",
     "text": [
      "Loading Glove Model\n",
      "Done. 400000  words loaded!\n"
     ]
    }
   ],
   "source": [
    "manual_load_model = loadGloveModel('glove.6B.50d.txt')"
   ]
  },
  {
   "cell_type": "code",
   "execution_count": 14,
   "metadata": {},
   "outputs": [
    {
     "data": {
      "text/plain": [
       "array([-0.094386,  0.43007 , -0.17224 , -0.45529 ,  1.6447  ,  0.40335 ,\n",
       "       -0.37263 ,  0.25071 , -0.10588 ,  0.10778 , -0.10848 ,  0.15181 ,\n",
       "       -0.65396 ,  0.55054 ,  0.59591 , -0.46278 ,  0.11847 ,  0.64448 ,\n",
       "       -0.70948 ,  0.23947 , -0.82905 ,  1.272   ,  0.033021,  0.2935  ,\n",
       "        0.3911  , -2.8094  , -0.70745 ,  0.4106  ,  0.3894  , -0.2913  ,\n",
       "        2.6124  , -0.34576 , -0.16832 ,  0.25154 ,  0.31216 ,  0.31639 ,\n",
       "        0.12539 , -0.012646,  0.22297 , -0.56585 , -0.086264,  0.62549 ,\n",
       "       -0.0576  ,  0.29375 ,  0.66005 , -0.53115 , -0.48233 , -0.97925 ,\n",
       "        0.53135 , -0.11725 ])"
      ]
     },
     "execution_count": 14,
     "metadata": {},
     "output_type": "execute_result"
    }
   ],
   "source": [
    "manual_load_model['man']"
   ]
  },
  {
   "cell_type": "code",
   "execution_count": 15,
   "metadata": {},
   "outputs": [
    {
     "data": {
      "text/plain": [
       "array([ -1.81530000e-01,   6.48270000e-01,  -5.82100000e-01,\n",
       "        -4.94510000e-01,   1.54150000e+00,   1.34500000e+00,\n",
       "        -4.33050000e-01,   5.80590000e-01,   3.55560000e-01,\n",
       "        -2.51840000e-01,   2.02540000e-01,  -7.16430000e-01,\n",
       "         3.06100000e-01,   5.61270000e-01,   8.39280000e-01,\n",
       "        -3.80850000e-01,  -9.08750000e-01,   4.33260000e-01,\n",
       "        -1.44360000e-02,   2.37250000e-01,  -5.37990000e-01,\n",
       "         1.77730000e+00,  -6.64330000e-02,   6.97950000e-01,\n",
       "         6.92910000e-01,  -2.67390000e+00,  -7.68050000e-01,\n",
       "         3.39290000e-01,   1.96950000e-01,  -3.52450000e-01,\n",
       "         2.29200000e+00,  -2.74110000e-01,  -3.01690000e-01,\n",
       "         8.52860000e-04,   1.69230000e-01,   9.14330000e-02,\n",
       "        -2.36100000e-02,   3.62360000e-02,   3.44880000e-01,\n",
       "        -8.39470000e-01,  -2.51740000e-01,   4.21230000e-01,\n",
       "         4.86160000e-01,   2.23250000e-02,   5.57600000e-01,\n",
       "        -8.52230000e-01,  -2.30730000e-01,  -1.31380000e+00,\n",
       "         4.87640000e-01,  -1.04670000e-01])"
      ]
     },
     "execution_count": 15,
     "metadata": {},
     "output_type": "execute_result"
    }
   ],
   "source": [
    "manual_load_model['woman']"
   ]
  },
  {
   "cell_type": "code",
   "execution_count": 16,
   "metadata": {},
   "outputs": [],
   "source": [
    "import math\n",
    "\n",
    "def dot_product(v1, v2):\n",
    "    return sum(map(lambda x: x[0] * x[1], zip(v1, v2)))\n",
    "\n",
    "def cosine_measure(v1, v2):\n",
    "    prod = dot_product(v1, v2)\n",
    "    len1 = math.sqrt(dot_product(v1, v1))\n",
    "    len2 = math.sqrt(dot_product(v2, v2))\n",
    "    return prod / (len1 * len2)\n"
   ]
  },
  {
   "cell_type": "code",
   "execution_count": 17,
   "metadata": {},
   "outputs": [
    {
     "data": {
      "text/plain": [
       "0.8860337718495821"
      ]
     },
     "execution_count": 17,
     "metadata": {},
     "output_type": "execute_result"
    }
   ],
   "source": [
    "cosine_measure(manual_load_model['man'], manual_load_model['woman'])"
   ]
  },
  {
   "cell_type": "code",
   "execution_count": null,
   "metadata": {},
   "outputs": [],
   "source": []
  }
 ],
 "metadata": {
  "kernelspec": {
   "display_name": "Python 3",
   "language": "python",
   "name": "python3"
  },
  "language_info": {
   "codemirror_mode": {
    "name": "ipython",
    "version": 3
   },
   "file_extension": ".py",
   "mimetype": "text/x-python",
   "name": "python",
   "nbconvert_exporter": "python",
   "pygments_lexer": "ipython3",
   "version": "3.5.2"
  }
 },
 "nbformat": 4,
 "nbformat_minor": 2
}
