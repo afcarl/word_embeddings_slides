{
 "cells": [
  {
   "cell_type": "code",
   "execution_count": 1,
   "metadata": {},
   "outputs": [],
   "source": [
    "from nltk.stem.porter import PorterStemmer"
   ]
  },
  {
   "cell_type": "markdown",
   "metadata": {},
   "source": [
    "SSES ->\tSS\tcaresses\t\t->\t\tcaress <br>\n",
    "IES\t->\tI\tponies\t\t->\t\tponi <br>\n",
    "SS\t->\tSS\tcaress\t\t->\t\tcaress <br>\n",
    "S ->   \t\tcats\t\t->\t\tcat <br>"
   ]
  },
  {
   "cell_type": "code",
   "execution_count": 6,
   "metadata": {},
   "outputs": [
    {
     "name": "stdout",
     "output_type": "stream",
     "text": [
      "caresses caress\n",
      "ponies poni\n",
      "ties tie\n",
      "caress caress\n",
      "cats cat\n",
      "mas ma\n"
     ]
    }
   ],
   "source": [
    "porter_stemmer = PorterStemmer()\n",
    "print ('caresses', porter_stemmer.stem('caresses'))\n",
    "print ('ponies', porter_stemmer.stem('ponies'))\n",
    "print ('ties', porter_stemmer.stem('ties'))\n",
    "print ('caress', porter_stemmer.stem('caress'))\n",
    "print ('cats', porter_stemmer.stem('cats'))\n",
    "print ('mas', porter_stemmer.stem('mas'))\n"
   ]
  },
  {
   "cell_type": "code",
   "execution_count": 20,
   "metadata": {},
   "outputs": [],
   "source": [
    "from nltk.stem import WordNetLemmatizer\n",
    "wordnet_lemmatizer = WordNetLemmatizer()"
   ]
  },
  {
   "cell_type": "code",
   "execution_count": 22,
   "metadata": {},
   "outputs": [
    {
     "name": "stdout",
     "output_type": "stream",
     "text": [
      "abaci abacus abaci\n",
      "crying cry cri\n"
     ]
    }
   ],
   "source": [
    "print ('abaci', wordnet_lemmatizer.lemmatize('abaci'), porter_stemmer.stem('abaci'))\n",
    "print ('crying', wordnet_lemmatizer.lemmatize('crying'), porter_stemmer.stem('crying'))"
   ]
  },
  {
   "cell_type": "code",
   "execution_count": null,
   "metadata": {},
   "outputs": [],
   "source": []
  }
 ],
 "metadata": {
  "kernelspec": {
   "display_name": "Python 3",
   "language": "python",
   "name": "python3"
  },
  "language_info": {
   "codemirror_mode": {
    "name": "ipython",
    "version": 3
   },
   "file_extension": ".py",
   "mimetype": "text/x-python",
   "name": "python",
   "nbconvert_exporter": "python",
   "pygments_lexer": "ipython3",
   "version": "3.5.2"
  }
 },
 "nbformat": 4,
 "nbformat_minor": 2
}
