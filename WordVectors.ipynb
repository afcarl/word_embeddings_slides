{
 "cells": [
  {
   "cell_type": "code",
   "execution_count": 1,
   "metadata": {},
   "outputs": [],
   "source": [
    "corpus = ['He loves Maths',\n",
    "'She loves English',\n",
    "'He  hunter',\n",
    "'She hunter']"
   ]
  },
  {
   "cell_type": "code",
   "execution_count": 2,
   "metadata": {},
   "outputs": [
    {
     "name": "stdout",
     "output_type": "stream",
     "text": [
      "[['He', 'loves', 'Maths'], ['She', 'loves', 'English'], ['He', 'is', 'a', 'hunter'], ['She', 'is', 'a', 'hunter']]\n"
     ]
    }
   ],
   "source": [
    "vocab = []\n",
    "tokenized_corpus = []\n",
    "for sent in corpus:\n",
    "    tokenized_corpus.append(sent.split(' '))\n",
    "\n",
    "print (tokenized_corpus)"
   ]
  },
  {
   "cell_type": "code",
   "execution_count": 3,
   "metadata": {},
   "outputs": [
    {
     "name": "stdout",
     "output_type": "stream",
     "text": [
      "['He', 'loves', 'Maths', 'She', 'English', 'is', 'a', 'hunter']\n"
     ]
    }
   ],
   "source": [
    "for sent in tokenized_corpus:\n",
    "    for word in sent:\n",
    "        if not word in vocab: # Can we do better here?\n",
    "            vocab.append(word)\n",
    "\n",
    "print (vocab)"
   ]
  },
  {
   "cell_type": "code",
   "execution_count": 4,
   "metadata": {},
   "outputs": [
    {
     "data": {
      "text/plain": [
       "{'English': [0, 0, 0, 0, 0, 0, 0, 0],\n",
       " 'He': [0, 0, 0, 0, 0, 0, 0, 0],\n",
       " 'Maths': [0, 0, 0, 0, 0, 0, 0, 0],\n",
       " 'She': [0, 0, 0, 0, 0, 0, 0, 0],\n",
       " 'a': [0, 0, 0, 0, 0, 0, 0, 0],\n",
       " 'hunter': [0, 0, 0, 0, 0, 0, 0, 0],\n",
       " 'is': [0, 0, 0, 0, 0, 0, 0, 0],\n",
       " 'loves': [0, 0, 0, 0, 0, 0, 0, 0]}"
      ]
     },
     "execution_count": 4,
     "metadata": {},
     "output_type": "execute_result"
    }
   ],
   "source": [
    "vec_rep = {}\n",
    "for word in vocab:\n",
    "    vec_rep[word] = [0]*len(vocab)\n",
    "\n",
    "vec_rep"
   ]
  },
  {
   "cell_type": "code",
   "execution_count": 5,
   "metadata": {},
   "outputs": [],
   "source": [
    "for sent in tokenized_corpus:\n",
    "    for word1 in sent:\n",
    "        for word2 in sent:\n",
    "            vec_rep[word1][vocab.index(word2)] += 1"
   ]
  },
  {
   "cell_type": "code",
   "execution_count": 6,
   "metadata": {},
   "outputs": [
    {
     "name": "stdout",
     "output_type": "stream",
     "text": [
      "           ['He', 'loves', 'Maths', 'She', 'English', 'is', 'a', 'hunter']\n",
      "a           [1, 0, 0, 1, 0, 2, 2, 2]\n",
      "He          [2, 1, 1, 0, 0, 1, 1, 1]\n",
      "She         [0, 1, 0, 2, 1, 1, 1, 1]\n",
      "is          [1, 0, 0, 1, 0, 2, 2, 2]\n",
      "Maths       [1, 1, 1, 0, 0, 0, 0, 0]\n",
      "loves       [1, 2, 1, 1, 1, 0, 0, 0]\n",
      "hunter      [1, 0, 0, 1, 0, 2, 2, 2]\n",
      "English     [0, 1, 0, 1, 1, 0, 0, 0]\n"
     ]
    }
   ],
   "source": [
    "print (' '*10, vocab)\n",
    "for a in vec_rep:\n",
    "    print (a,' '*(10-len(a)), vec_rep[a])"
   ]
  },
  {
   "cell_type": "code",
   "execution_count": 7,
   "metadata": {},
   "outputs": [
    {
     "data": {
      "text/plain": [
       "'English'"
      ]
     },
     "execution_count": 7,
     "metadata": {},
     "output_type": "execute_result"
    }
   ],
   "source": [
    "import math\n",
    "\n",
    "def dot_product(v1, v2):\n",
    "    return sum(map(lambda x: x[0] * x[1], zip(v1, v2)))\n",
    "\n",
    "def cosine_measure(v1, v2):\n",
    "    prod = dot_product(v1, v2)\n",
    "    len1 = math.sqrt(dot_product(v1, v1))\n",
    "    len2 = math.sqrt(dot_product(v2, v2))\n",
    "    return prod / (len1 * len2)\n",
    "\n",
    "def get_most_similar(inp_word):\n",
    "    max_similar = ''\n",
    "    max_cosine = -1\n",
    "    for word in vocab:\n",
    "        if not word == inp_word:\n",
    "            this_cosine = cosine_measure(vec_rep[word], vec_rep[inp_word])\n",
    "            if (this_cosine > max_cosine):\n",
    "                max_cosine = this_cosine\n",
    "                max_similar = word\n",
    "    return max_similar\n",
    "\n",
    "get_most_similar('She')"
   ]
  },
  {
   "cell_type": "code",
   "execution_count": 9,
   "metadata": {},
   "outputs": [
    {
     "data": {
      "text/plain": [
       "'Maths'"
      ]
     },
     "execution_count": 9,
     "metadata": {},
     "output_type": "execute_result"
    }
   ],
   "source": [
    "get_most_similar('He')"
   ]
  },
  {
   "cell_type": "code",
   "execution_count": null,
   "metadata": {},
   "outputs": [],
   "source": []
  }
 ],
 "metadata": {
  "kernelspec": {
   "display_name": "Python 3",
   "language": "python",
   "name": "python3"
  },
  "language_info": {
   "codemirror_mode": {
    "name": "ipython",
    "version": 3
   },
   "file_extension": ".py",
   "mimetype": "text/x-python",
   "name": "python",
   "nbconvert_exporter": "python",
   "pygments_lexer": "ipython3",
   "version": "3.5.2"
  }
 },
 "nbformat": 4,
 "nbformat_minor": 2
}
